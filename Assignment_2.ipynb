{
 "cells": [
  {
   "cell_type": "markdown",
   "id": "50528c35",
   "metadata": {},
   "source": [
    "### Ronnie Kauanoe (rkauanoe@hawaii.edu)\n",
    "### ICS 438 (CRN 87660)"
   ]
  },
  {
   "cell_type": "code",
   "execution_count": 396,
   "id": "1443cdff",
   "metadata": {},
   "outputs": [],
   "source": [
    "import re"
   ]
  },
  {
   "cell_type": "markdown",
   "id": "9aa8d15e",
   "metadata": {},
   "source": [
    "# Assignment 2: Analyzing large datasets with Spark.\n",
    "\n",
    "\n",
    "For this assignment, you will need to make sure you're running from a PySpark docker environment I introduced in class. You can start the docker pySpark docker environment using the following command:\n",
    "\n",
    "```\n",
    "docker run --rm -p 4040:4040 -p 8888:8888 -v \"%cd%\":/home/jovyan/work jupyter/all-spark-notebook\n",
    "```\n",
    "\n",
    "Make sure you run the command from the directory containing this jupyter notebook and your data folder.\n",
    "\n",
    "\n",
    "</b>\n",
    "# WARNING: For some reason, ipynbb document didn't always sync properly when I was pushing to github. As such, please push often and make sure your incremental changes appear on GitHub.\n",
    "</b>"
   ]
  },
  {
   "cell_type": "markdown",
   "id": "66b0d3e6",
   "metadata": {},
   "source": [
    "### Part 1\n",
    "\n",
    "The first part will use Spark to analyze the following books, which I have downloaded for you to use from Project Gutenberg. The files are saved to the data folder.\n",
    "\n",
    "| File name | Book Title|\n",
    "|:---------:|:----------|\n",
    "|43.txt | The Strange Case of Dr. Jekyll and Mr. Hyde by Robert Louis Stevenson|\n",
    "|84.txt | Frankenstein; Or, The Modern Prometheus by Mary Wollstonecraft Shelley |\n",
    "|398.txt  | The First Book of Adam and Eve by Rutherford Hayes Platt|\n",
    "|3296.txt | The Confessions of St. Augustine by Bishop of Hippo Saint Augustine|\n",
    "\n",
    "The objective is to explore whether we can detect similarity between books within the same topic using word-based similarity. \n",
    "\n",
    "The task of identifying similar texts in Natural Language Processing is crucial. A naive method for determining whether two documents are similar is to treat them as collections of words (bag of words) and use the number of words they share as a proxy for their similarity. It makes sense that two books with religion as the topic (e.g.  `398.txt` and `3296.txt`) would have more words in common than a book that discusses religion and a book that discusses science fiction (e.g. books `84.txt` and `398.txt`). \n",
    "\n",
    "As mentioned above, we will be using Spark to analyze the data. Although Spark is not needed for such a small example, the platform would be ideal for analyzing very large collections of documents, like those often analyzed by large corporations\n",
    "\n",
    "This part of the assignment will rely exclusively on RDDs."
   ]
  },
  {
   "cell_type": "markdown",
   "id": "87a15530",
   "metadata": {},
   "source": [
    "### Q1. \n",
    "Start by importing Spark and making sure your environment is set up properly for the assignment.\n",
    "\n",
    "Import the spark context necessary to load a document as an RDD; ignore any error messages"
   ]
  },
  {
   "cell_type": "code",
   "execution_count": 397,
   "id": "e80df4d4",
   "metadata": {},
   "outputs": [],
   "source": [
    "import pyspark\n",
    "from pyspark import SparkContext "
   ]
  },
  {
   "cell_type": "markdown",
   "id": "336d5c9d",
   "metadata": {},
   "source": [
    "### Q2 \n",
    "\n",
    "Read in the file `43.txt` as a spark RDD and save it to a variable called `book_43`\n",
    " * make sure `book_43` is of type MapPartitionsRDD, i.e.,\n",
    "   * str(type(book_43)) == \"<class 'pyspark.rdd.RDD'>\" should return True "
   ]
  },
  {
   "cell_type": "code",
   "execution_count": 398,
   "id": "3d4164f5",
   "metadata": {},
   "outputs": [
    {
     "name": "stdout",
     "output_type": "stream",
     "text": [
      "True\n"
     ]
    }
   ],
   "source": [
    "# Create or reuse a context\n",
    "sc = SparkContext.getOrCreate()\n",
    "# Read in 43.txt as a spark RDD\n",
    "book_43 = sc.textFile(\"data/43.txt\")\n",
    "# Verify that book_43 is the correct type\n",
    "print(str(type(book_43)) == \"<class 'pyspark.rdd.RDD'>\")"
   ]
  },
  {
   "cell_type": "markdown",
   "id": "0b8c051e",
   "metadata": {},
   "source": [
    "### Q3\n",
    "\n",
    "How many lines does `book_43` contain?\n",
    "* You can only use operations or actions on RDDs to answer the question. \n",
    "  * Code that uses methods such as `some_rdd.X().Y().Z()...` is allowed\n",
    "  * Code that uses functions such as `some_func(...)` is not allowed"
   ]
  },
  {
   "cell_type": "code",
   "execution_count": 399,
   "id": "b3c5a06e",
   "metadata": {},
   "outputs": [
    {
     "name": "stdout",
     "output_type": "stream",
     "text": [
      "2935\n"
     ]
    }
   ],
   "source": [
    "print(book_43.count())"
   ]
  },
  {
   "cell_type": "markdown",
   "id": "bca2bc6d",
   "metadata": {},
   "source": [
    "### Q4 \n",
    "\n",
    "Prior to analyzing the words contained in this book, we need to first remove the occurrences of non-alphabetical characters and numbers from the text. You can use the following function, which takes a line as input, removes digits and non-word characters, and splits it into a collection of words. \n",
    "\n",
    "```python\n",
    "def clean_split_line(line):\n",
    "    a = re.sub('\\d+', '', line)\n",
    "    b = re.sub('[\\W]+', ' ', a)\n",
    "    return b.upper().split()\n",
    "```\n",
    "\n",
    "Use the fucntion above on the variable (test_line) to see what it returns.\n",
    "```python\n",
    "test_line = \"This is an example of that contains 234 and a dash-containing number\"\n",
    "```"
   ]
  },
  {
   "cell_type": "code",
   "execution_count": 400,
   "id": "55ce2754",
   "metadata": {},
   "outputs": [
    {
     "name": "stdout",
     "output_type": "stream",
     "text": [
      "['THIS', 'IS', 'AN', 'EXAMPLE', 'OF', 'THAT', 'CONTAINS', 'AND', 'A', 'DASH', 'CONTAINING', 'NUMBER']\n"
     ]
    }
   ],
   "source": [
    "# Provided code\n",
    "def clean_split_line(line):\n",
    "    a = re.sub('\\d+', '', line)\n",
    "    b = re.sub('[\\W]+', ' ', a)\n",
    "    return b.upper().split()\n",
    "# Provided sample\n",
    "test_line = \"This is an example of that contains 234 and a dash-containing number\"\n",
    "\n",
    "print(clean_split_line(test_line))"
   ]
  },
  {
   "cell_type": "markdown",
   "id": "b5e951e5",
   "metadata": {},
   "source": [
    "### Q5\n",
    "\n",
    "How many words does `book_43` contain? To answer this question, you may find it useful to apply the function in a spark-fashion. \n",
    "* You can only use operations or actions on RDDs to answer the question. \n",
    "  * Code that uses methods such as `some_rdd.X().Y().Z()...` is allowed\n",
    "  * Code that uses functions such as `some_func(...)` is not allowed\n"
   ]
  },
  {
   "cell_type": "code",
   "execution_count": 401,
   "id": "99c1b93f",
   "metadata": {},
   "outputs": [
    {
     "data": {
      "text/plain": [
       "29116"
      ]
     },
     "execution_count": 401,
     "metadata": {},
     "output_type": "execute_result"
    }
   ],
   "source": [
    "# Apply the function to every line, create a flat list, and count the elements\n",
    "book_43.flatMap(lambda line: clean_split_line(line)).count()"
   ]
  },
  {
   "cell_type": "markdown",
   "id": "30d62952",
   "metadata": {},
   "source": [
    "### Q6\n",
    "\n",
    "How many of the words in book_43 are unique? Given that words can appear in lower, upper or mixed case (ex. The, THE, the), make sure you convert the words into lower case before counting them.\n"
   ]
  },
  {
   "cell_type": "code",
   "execution_count": 402,
   "id": "07785c77",
   "metadata": {},
   "outputs": [
    {
     "data": {
      "text/plain": [
       "4296"
      ]
     },
     "execution_count": 402,
     "metadata": {},
     "output_type": "execute_result"
    }
   ],
   "source": [
    "# Similar to above, apply the function to every line, ensure ever word is lowercase,\n",
    "# create a flat list, remove any duplicate words using distinct(), and count the elements\n",
    "book_43.flatMap(lambda line: [s.lower() for s in clean_split_line(line)]).distinct().count()"
   ]
  },
  {
   "cell_type": "markdown",
   "id": "91b13b79",
   "metadata": {},
   "source": [
    "### Q7\n",
    "\n",
    "* Generate an `RDD` that contains the frequency of each word in `book_43`. Call the variable `book_43_counts`. Each item in the `RDD` should be a tuple with the word as the first element of the tuple and the count as the second item of the tuple. The collection should look like the following:\n",
    "\n",
    "[('project', 88), (\"the\", 1807), ... ]\n",
    "\n",
    "* Such a collection may contain a large number of words and it would be imprudent to transfer all the words onto the same machine to display it. Instead, to explore the content of such a collection, display only the first element in your list. \n",
    "\n",
    "* Given the random nature of this operation, the first element element displayed may be different. The first entry for me was:\n",
    "```\n",
    "[('project', 88)]\n",
    "```\n",
    "\n",
    "* You can only use operations or actions to answer the question. \n",
    "* Code that uses methods such as `some_rdd.X().Y().Z()...` is allowed\n",
    "* Code that uses functions such as `some_func(...)` is not allowed\n"
   ]
  },
  {
   "cell_type": "code",
   "execution_count": 403,
   "id": "42729b95",
   "metadata": {},
   "outputs": [],
   "source": [
    "book_43_counts = book_43.flatMap(\n",
    "    # Take all words in the document and put them in a flat list\n",
    "    lambda line: clean_split_line(line)).map(\n",
    "    # Then, make all words a key/value pair where (word, 1)\n",
    "    lambda s: (s, 1)).reduceByKey(\n",
    "    # Finally, reduce by adding pairs with equal keys and add their values together\n",
    "    # ex. (\"united\", 1), (\"united\", 1) -> (\"united\", 2) to represent two instances of the words \"united\"\n",
    "    lambda x, y: x + y)"
   ]
  },
  {
   "cell_type": "markdown",
   "id": "1ee4534c",
   "metadata": {},
   "source": [
    "### Q8\n",
    "\n",
    "Sort `book_43_counts` and print the 20 most frequent words in book_43. \n",
    "  * Hint: function `sortByKey` sorts a collection of tuples on the first element element of the list. You can easily change the order of the items in each element and use `sortByKey` to sort on the second item of each element in `book_43_counts`\n",
    "  * You can only use operations or actions to answer the question. \n",
    "  * Code that uses methods such as `some_rdd.X().Y().Z()...` is allowed\n",
    "  * Code that uses functions such as `some_func(...)` is not allowed"
   ]
  },
  {
   "cell_type": "code",
   "execution_count": 404,
   "id": "d51b8ea9",
   "metadata": {},
   "outputs": [
    {
     "data": {
      "text/plain": [
       "[('THE', 1807),\n",
       " ('OF', 1068),\n",
       " ('AND', 1043),\n",
       " ('TO', 726),\n",
       " ('A', 686),\n",
       " ('I', 646),\n",
       " ('IN', 485),\n",
       " ('WAS', 471),\n",
       " ('THAT', 392),\n",
       " ('HE', 384),\n",
       " ('IT', 378),\n",
       " ('YOU', 312),\n",
       " ('MY', 308),\n",
       " ('WITH', 301),\n",
       " ('HIS', 285),\n",
       " ('HAD', 244),\n",
       " ('AS', 203),\n",
       " ('FOR', 202),\n",
       " ('THIS', 195),\n",
       " ('BUT', 193)]"
      ]
     },
     "execution_count": 404,
     "metadata": {},
     "output_type": "execute_result"
    }
   ],
   "source": [
    "book_43_counts.sortBy(\n",
    "    # Sort using the value of the tuple\n",
    "    lambda kvp: kvp[1],\n",
    "    # Descending values, greatest to least, and take the first 20\n",
    "    ascending=False).take(20)"
   ]
  },
  {
   "cell_type": "markdown",
   "id": "13420b09",
   "metadata": {},
   "source": [
    "### Q9\n",
    "\n",
    "You must have noted that the most frequent words in `book_43_counts` include stop words such as `of`, `the`, `and`, etc.\n",
    "\n",
    "It would be inefficient to compare documents based on whether or not they contain stop words; those are common to all documents. As such, it's common to remove such stop words. The librarary `sklearn.feature_extraction` provides access to a collection of English stop words, which can be loaded using the following snippet:\n",
    "\n",
    "```\n",
    "from sklearn.feature_extraction import stop_words\n",
    "stop_words.ENGLISH_STOP_WORDS\n",
    "```\n",
    "\n",
    "* Explore ENGLISH_STOP_WORDS (it's a frozen set data structure, i.e., a set that you cannot modify) by printing any 10 words from it. \n",
    " * Hint: convert the frozen set to something you can subscript\n"
   ]
  },
  {
   "cell_type": "code",
   "execution_count": 405,
   "id": "0e0ad996",
   "metadata": {},
   "outputs": [
    {
     "name": "stdout",
     "output_type": "stream",
     "text": [
      "TOO\n",
      "TAKE\n",
      "ANY\n",
      "UN\n",
      "NOT\n",
      "NEVER\n",
      "BECAME\n",
      "ETC\n",
      "WILL\n",
      "ABOVE\n"
     ]
    }
   ],
   "source": [
    "# Slightly different import than given\n",
    "from sklearn.feature_extraction.text import ENGLISH_STOP_WORDS as en_stop_words\n",
    "# Convert from frozen data to list and convert to upper\n",
    "stop_words = [word.upper() for word in list(en_stop_words)]\n",
    "\n",
    "# Print the first 10 words\n",
    "for i in range(10):\n",
    "    print(stop_words[i])"
   ]
  },
  {
   "cell_type": "markdown",
   "id": "625eb521",
   "metadata": {},
   "source": [
    "### Q10\n",
    "\n",
    "Filter out the words in `book_43_counts` by removing those that appear in the ENGLISH_STOP_WORDS.\n",
    "Save the results to a new variable called `book_43_counts_filtered`\n",
    "  * You can only use operarations or actions on RDDs to answer the question. \n",
    "  * Code that uses methods such as `some_rdd.X().Y().Z()...` is allowed\n",
    "  * Code that uses function such as `some_func(...)` is not allowed\n"
   ]
  },
  {
   "cell_type": "code",
   "execution_count": 406,
   "id": "5602b4ff",
   "metadata": {},
   "outputs": [],
   "source": [
    "book_43_counts_filtered = book_43_counts.filter(\n",
    "    # Does the word exist in the list of stop words? If not, keep it. Otherwise, remove.\n",
    "    lambda kvp: kvp[0] not in stop_words)"
   ]
  },
  {
   "cell_type": "markdown",
   "id": "3d0b3a80",
   "metadata": {},
   "source": [
    "### Q11\n",
    "\n",
    "* How many words are left in `book_43_counts_filtered` after removing the stop words"
   ]
  },
  {
   "cell_type": "code",
   "execution_count": 407,
   "id": "a5bdf083",
   "metadata": {},
   "outputs": [
    {
     "data": {
      "text/plain": [
       "4034"
      ]
     },
     "execution_count": 407,
     "metadata": {},
     "output_type": "execute_result"
    }
   ],
   "source": [
    "book_43_counts_filtered.count()"
   ]
  },
  {
   "cell_type": "markdown",
   "id": "23ffd755",
   "metadata": {},
   "source": [
    "### Q12 \n",
    "\n",
    "* Create a function called *process_RDD* that combines the relevant steps you proposed above to make it convenient to apply them to the remaining four books. Your function should accept an input text file path and:\n",
    " * Reads in the file as a textRDD\n",
    " * Cleans and splits the line using `clean_split_line`\n",
    " * Filters out the stop words\n",
    " * Returns a word count RDD where each item is a tuple of words and its count.\n",
    " \n"
   ]
  },
  {
   "cell_type": "code",
   "execution_count": 408,
   "id": "eff5d5e8",
   "metadata": {},
   "outputs": [
    {
     "name": "stdout",
     "output_type": "stream",
     "text": [
      "True\n"
     ]
    }
   ],
   "source": [
    "def process_RDD(path):\n",
    "    # Create or reuse a context\n",
    "    sc = SparkContext.getOrCreate()\n",
    "    # Read in 43.txt as a spark RDD\n",
    "    file = sc.textFile(path)\n",
    "    \n",
    "    counts = file.flatMap(\n",
    "        # Take all words in the document and put them in a flat list\n",
    "        lambda line: clean_split_line(line)).map(\n",
    "        # Then, make all words a key/value pair where (word, 1)\n",
    "        lambda s: (s, 1)).reduceByKey(\n",
    "        # Finally, reduce by adding pairs with equal keys and add their values together\n",
    "        # ex. (\"united\", 1), (\"united\", 1) -> (\"united\", 2) to represent two instances of the words \"united\"\n",
    "        lambda x, y: x + y)\n",
    "    \n",
    "    counts.sortBy(\n",
    "        # Sort using the value of the tuple\n",
    "        lambda kvp: kvp[1],\n",
    "        # Descending values, greatest to least, and take the first 20\n",
    "        ascending=False)\n",
    "    \n",
    "    counts_filtered = counts.filter(\n",
    "        # Does the word exist in the list of stop words? If not, keep it. Otherwise, remove.\n",
    "        lambda kvp: kvp[0] not in stop_words)\n",
    "    \n",
    "    return counts_filtered\n",
    "\n",
    "# Check if the content of book_43's RDD is the same as the one\n",
    "# produced by process_RDD(\"data/43.txt\")\n",
    "print(process_RDD(\"data/43.txt\").collect() == book_43_counts_filtered.collect())"
   ]
  },
  {
   "cell_type": "markdown",
   "id": "ba59c9c5",
   "metadata": {},
   "source": [
    "### Q13 \n",
    "\n",
    "Apply the function `process_RDD` to `book_84`, `book_398` and `book_3296` and save the results to variables `book_84_counts_filtered`, `book_398_counts_filtered` and `book_3296_counts_filtered` respectively. How many distinct words does each book contain after filtering the stop words.\n"
   ]
  },
  {
   "cell_type": "code",
   "execution_count": 409,
   "id": "08a24f66",
   "metadata": {},
   "outputs": [
    {
     "name": "stdout",
     "output_type": "stream",
     "text": [
      "book_84 has 7016 distinct words\n",
      "book_398 has 2421 distinct words\n",
      "book_3296 has 7293 distinct words\n"
     ]
    }
   ],
   "source": [
    "book_84_counts_filtered = process_RDD(\"data/84.txt\")\n",
    "book_398_counts_filtered = process_RDD(\"data/398.txt\")\n",
    "book_3296_counts_filtered = process_RDD(\"data/3296.txt\")\n",
    "\n",
    "print(\"book_84 has %d distinct words\" % (book_84_counts_filtered.count()))\n",
    "print(\"book_398 has %d distinct words\" % (book_398_counts_filtered.count()))\n",
    "print(\"book_3296 has %d distinct words\" % (book_3296_counts_filtered.count()))"
   ]
  },
  {
   "cell_type": "markdown",
   "id": "7fb9680f",
   "metadata": {},
   "source": [
    "### Q14 \n",
    "\n",
    "We discussed how to evaluate similarity between two texts using the number of words they share. We hypothesized that books that are similar should have more words in common than books that are dissimilar. If that holds, `book_398` and `book_3296`, which both pertain to religion, will have more words in common than, say, `book_84` and `book_398`. Test this hypothesis by writing code that compares and prints the number of words shared between `book_398` and `book_3296` and then between `book_84` and `book_398`.\n"
   ]
  },
  {
   "cell_type": "code",
   "execution_count": 410,
   "id": "ac6b73e0",
   "metadata": {},
   "outputs": [
    {
     "name": "stdout",
     "output_type": "stream",
     "text": [
      "Books 398 and 3296 share 1790 words\n",
      "Books 84 and 398 share 1691 words\n"
     ]
    }
   ],
   "source": [
    "# Function only used to reduce lines of written code, function only uses RDD actions/transformations\n",
    "def compare_books(book1_counts_filtered, book2_counts_filtered):\n",
    "    # Flatten book1 to get all words and ignore counts\n",
    "    flat_book1 = book1_counts_filtered.flatMap(lambda kvp: [kvp[0]]).collect()\n",
    "    \n",
    "    shared_words = book2_counts_filtered.filter(\n",
    "        # Only keep the words that are in both books, remove otherwise\n",
    "        lambda kvp: kvp[0] in flat_book1).flatMap(\n",
    "        # Only keep the words, not the counts of the words\n",
    "        lambda kvp: [kvp[0]]).collect()\n",
    "    \n",
    "    return shared_words\n",
    "\n",
    "shared_398_3296 = compare_books(book_398_counts_filtered, book_3296_counts_filtered)\n",
    "shared_84_398 = compare_books(book_84_counts_filtered, book_398_counts_filtered)\n",
    "\n",
    "print(\"Books 398 and 3296 share %d words\" % (len(shared_398_3296)))\n",
    "print(\"Books 84 and 398 share %d words\" % (len(shared_84_398)))"
   ]
  },
  {
   "cell_type": "markdown",
   "id": "cef9f326",
   "metadata": {},
   "source": [
    "### Q15\n",
    "\n",
    "* Based on the above, do you think counting the number of shared words is a good idea as a distance metric for evaluating topic similarity? Justify your answer?\n",
    "* Hint: What do *book_84* and *book_3296* have in common? "
   ]
  },
  {
   "cell_type": "code",
   "execution_count": 411,
   "id": "a013228f",
   "metadata": {},
   "outputs": [
    {
     "name": "stdout",
     "output_type": "stream",
     "text": [
      "Most used words and counts in book 84\n",
      "[('MAN', 137), ('FATHER', 133), ('DID', 119), ('LIFE', 116), ('SHALL', 106), ('EYES', 104), ('SAID', 102), ('S', 100), ('GUTENBERG', 98), ('TIME', 98), ('SAW', 94), ('NIGHT', 91), ('PROJECT', 88), ('MIND', 85), ('DAY', 82), ('HEART', 81), ('FELT', 80), ('DEATH', 79), ('WORK', 78), ('FEELINGS', 76)]\n",
      "\n",
      "\n",
      "Book 3296's most used words relative to book 84's most used words\n",
      "[('MAN', 268), ('DID', 248), ('TIME', 228), ('LIFE', 202), ('SHALL', 192), ('MIND', 185), ('HEART', 180), ('S', 136), ('SAID', 131), ('DAY', 107), ('GUTENBERG', 97), ('PROJECT', 88), ('EYES', 82), ('WORK', 62), ('FATHER', 58), ('DEATH', 57), ('SAW', 50), ('NIGHT', 30), ('FELT', 13), ('FEELINGS', 9)]\n",
      "\n",
      "\n",
      "Most used words and counts in book 3296\n",
      "[('THOU', 1092), ('THEE', 924), ('THY', 901), ('THINGS', 553), ('GOD', 510), ('LORD', 316), ('O', 302), ('GOOD', 279), ('MAN', 268), ('DID', 248), ('EARTH', 244), ('TIME', 228), ('SOUL', 215), ('HEAVEN', 202), ('LIFE', 202), ('TRUTH', 199), ('SHALL', 192), ('SAY', 190), ('MIND', 185), ('KNOW', 183)]\n",
      "\n",
      "\n",
      "Book 84's most used words relative to book 3296's most used words\n",
      "[('MAN', 137), ('DID', 119), ('LIFE', 116), ('SHALL', 106), ('TIME', 98), ('MIND', 85), ('KNOW', 50), ('SOUL', 38), ('EARTH', 36), ('GOOD', 35), ('SAY', 23), ('GOD', 22), ('HEAVEN', 22), ('THY', 18), ('TRUTH', 14), ('THOU', 14), ('THINGS', 11), ('O', 10), ('THEE', 10), ('LORD', 1)]\n"
     ]
    }
   ],
   "source": [
    "# Get list of shared terms between books 84 and 3296\n",
    "shared_84_3296 = compare_books(book_84_counts_filtered, book_3296_counts_filtered)\n",
    "# Get top 20 used words in book 84\n",
    "high_use_shared_84 = book_84_counts_filtered.filter(\n",
    "    lambda kvp: kvp[0] in shared_84_3296).sortBy(\n",
    "    # Sort using the value of the tuple\n",
    "    lambda kvp: kvp[1],\n",
    "    # Descending values, greatest to least\n",
    "    ascending=False).take(20)\n",
    "\n",
    "\n",
    "#Get top 20 used words in book 3296\n",
    "high_use_shared_3296 = book_3296_counts_filtered.filter(\n",
    "    lambda kvp: kvp[0] in shared_84_3296).sortBy(\n",
    "    # Sort using the value of the tuple\n",
    "    lambda kvp: kvp[1],\n",
    "    # Descending values, greatest to least\n",
    "    ascending=False).take(20)\n",
    "\n",
    "\n",
    "flat_high_use_shared_84 = [kvp[0] for kvp in high_use_shared_84]\n",
    "\n",
    "# Get book 3296's most used terms relative to book 84's most used terms\n",
    "similar_counts_3296 = book_3296_counts_filtered.filter(\n",
    "    lambda kvp: kvp[0] in flat_high_use_shared_84).sortBy(\n",
    "    # Sort using the value of the tuple\n",
    "    lambda kvp: kvp[1],\n",
    "    # Descending values, greatest to least\n",
    "    ascending=False).collect()\n",
    "\n",
    "\n",
    "flat_high_use_shared_3296 = [kvp[0] for kvp in high_use_shared_3296]\n",
    "\n",
    "# Get book 84's most used terms relative to book 3296's most used terms\n",
    "similar_counts_84 = book_84_counts_filtered.filter(\n",
    "    lambda kvp: kvp[0] in flat_high_use_shared_3296).sortBy(\n",
    "    # Sort using the value of the tuple\n",
    "    lambda kvp: kvp[1],\n",
    "    # Descending values, greatest to least\n",
    "    ascending=False).collect()\n",
    "\n",
    "\n",
    "\n",
    "print(\"Most used words and counts in book 84\")\n",
    "print(high_use_shared_84)\n",
    "print(\"\\n\")\n",
    "\n",
    "print(\"Book 3296's most used words relative to book 84's most used words\")\n",
    "print(similar_counts_3296)\n",
    "print(\"\\n\")\n",
    "\n",
    "print(\"Most used words and counts in book 3296\")\n",
    "print(high_use_shared_3296)\n",
    "print(\"\\n\")\n",
    "\n",
    "print(\"Book 84's most used words relative to book 3296's most used words\")\n",
    "print(similar_counts_84)"
   ]
  },
  {
   "cell_type": "markdown",
   "id": "6587ae14",
   "metadata": {},
   "source": [
    "<b>RESPONSE</b>: The above code compares the most common terms in books 84 and 3296. Let's compare the occurences of certain words between the two texts.\n",
    "\n",
    "\"Father\" is the second most used word in book 84 with 133 uses but \"father\" is only used 58 times in book 3296, far less than the book's second most used word \"thee\" with 924 uses.\n",
    "\n",
    "\"Things\" is the fourth most used word in book 3296 with a whopping 553 uses but \"things\" is only used 11 times in book 84, far less than the book's fourth most used word \"life\".\n",
    "\n",
    "These are just two examples on how the texts vary. Using just the number of shared words to compare the books similarity of topics completely ignores how often those words are used in the books. <u>Therefore, I believe that counting the number of shared words is not a good idea as a distance metric for evaluating topic similarity.</u>"
   ]
  },
  {
   "cell_type": "markdown",
   "id": "a6f8f857",
   "metadata": {},
   "source": [
    "## Part II \n",
    "\n",
    "Another approach to estimating similarity consists of computing the Euclidean distance across a set of words. For example, suppose we have 3 documents A, B and C with the following counts for the words `evolution`, `DNA`, `biology` and `finance`. \n",
    "\n",
    "```python \n",
    "A = [4, 9, 6, 8]\n",
    "B = [3, 7, 7, 10]\n",
    "C = [15, 10, 1, 1]\n",
    "```\n",
    "Although all documents contain exactly the four words, the number of times these words appear in each book may be indicative of thier topic. For example, documents `A` and `B` are more likely to be business related since they contain the word `finance` more frequently (8 and 10 times respectively). Document `C` may be a technical document since it focuses on more technical words (`evolution` and `DNA`) and less on the words `finance`.\n",
    "\n",
    "The Euclidean distance, which can be computed using the `scikit` snippet below, is more indicative of topic-relatedness between the two documents.\n",
    "\n",
    "```python\n",
    "from scipy.spatial.distance import euclidean \n",
    "print(f\"The Euclidean distance between A and B is: {euclidean(A, B)}\")\n",
    "\n",
    "print(f\"The Euclidean distance between A and C is: {euclidean(A, C)}\")\n",
    "\n",
    "print(f\"The Euclidean distance between B and C is: {euclidean(B, C)}\")\n",
    "```\n"
   ]
  },
  {
   "cell_type": "markdown",
   "id": "9abdc35e",
   "metadata": {},
   "source": [
    "### Q16\n",
    "\n",
    "To calculate the Euclidean distance, we must first identify the set of words by which we will compare the documents. Here, we will explore the words that are common to all 4 documents. We will store the data in a matrix called `counts_matrix`.\n",
    "\n",
    "Start by finding the words that are common to all four documents after stop-word filtering and store the counts for each word in a column of `counts_matrix`. \n",
    "\n",
    "To take the previous example, you can generate an emtpy matrix with 3 lines (documents `A`, `B` and `C`) and 4 columns (words `evolution`, `DNA`, `biology` and `finance`) using the following code.\n",
    "\n",
    "```python\n",
    "import numpy as np\n",
    "counts_matrix = np.zeros([3,4])\n",
    "```\n",
    "\n",
    "After generting the counts, you can fill the counts for a document, say `A`, using the following code:\n",
    "\n",
    "```python\n",
    "counts_matrix[0, :] = [4, 9, 6, 8] \n",
    "```\n",
    "* Other than for building `counts_matrix` you should exclusively use operations or actions on the `RDD` to answer this question. \n",
    "  * Code that uses methods such as `some_rdd.X().Y().Z()...` is allowed\n",
    "  * Code that uses functions such as `some_func(...)` is not allowed\n"
   ]
  },
  {
   "cell_type": "code",
   "execution_count": 412,
   "id": "c3cae946",
   "metadata": {},
   "outputs": [
    {
     "name": "stdout",
     "output_type": "stream",
     "text": [
      "All books share 1162 words\n",
      "[('ABIDE', 1), ('ABLE', 3), ('ACCEPT', 2), ('ACCEPTED', 2), ('ACCEPTING', 1)]\n",
      "[('ABIDE', 1), ('ABLE', 9), ('ACCEPT', 4), ('ACCEPTED', 2), ('ACCEPTING', 1)]\n",
      "[('ABIDE', 1), ('ABLE', 5), ('ACCEPT', 16), ('ACCEPTED', 14), ('ACCEPTING', 1)]\n",
      "[('ABIDE', 16), ('ABLE', 36), ('ACCEPT', 3), ('ACCEPTED', 3), ('ACCEPTING', 1)]\n",
      "[ 1.  1.  1. 16.]\n",
      "[ 3.  9.  5. 36.]\n",
      "[ 2.  4. 16.  3.]\n",
      "[ 2.  2. 14.  3.]\n",
      "[1. 1. 1. 1.]\n"
     ]
    }
   ],
   "source": [
    "import numpy as np\n",
    "\n",
    "# Get all distinct words from book_84\n",
    "flat_book_84 = [kvp[0] for kvp in book_84_counts_filtered.collect()]\n",
    "# Get all distinct words from book_398\n",
    "flat_book_398 = [kvp[0] for kvp in book_398_counts_filtered.collect()]\n",
    "# Get all distinct words from book_3296\n",
    "flat_book_3296 = [kvp[0] for kvp in book_3296_counts_filtered.collect()]\n",
    "\n",
    "# List of all words (alphabetized) shared between all books\n",
    "shared_words = book_43_counts_filtered.filter(\n",
    "    # Check that the word exists in ALL books\n",
    "    lambda kvp: (kvp[0] in flat_book_84)\n",
    "    and (kvp[0] in flat_book_398)\n",
    "    and (kvp[0] in flat_book_3296)).sortBy(\n",
    "    # Then, alphabetize\n",
    "    lambda kvp: kvp[0]).flatMap(\n",
    "    # Finally, keep only the words\n",
    "    lambda kvp: [kvp[0]])\n",
    "\n",
    "print(\"All books share %d words\" % (shared_words.count()))\n",
    "\n",
    "# 4 documents = 4 lines\n",
    "counts_matrix = np.zeros([4, shared_words.count()])\n",
    "\n",
    "# Retrieve list from RDD\n",
    "list_shared_words = shared_words.collect()\n",
    "\n",
    "# Add book_43's shared word counts to matrix\n",
    "counts_matrix[0, :] = book_43_counts_filtered.filter(\n",
    "    # Keep only shared words\n",
    "    lambda kvp: kvp[0] in list_shared_words).sortBy(\n",
    "    # Alphabetize the words\n",
    "    lambda kvp: kvp[0]).flatMap(\n",
    "    # Keep only the counts\n",
    "    lambda kvp: [kvp[1]]).collect()\n",
    "\n",
    "# Add book_84's shared word counts to matrix\n",
    "counts_matrix[1, :] = book_84_counts_filtered.filter(\n",
    "    # Keep only shared words\n",
    "    lambda kvp: kvp[0] in list_shared_words).sortBy(\n",
    "    # Alphabetize the words\n",
    "    lambda kvp: kvp[0]).flatMap(\n",
    "    # Keep only the counts\n",
    "    lambda kvp: [kvp[1]]).collect()\n",
    "\n",
    "# Add book_398's shared word counts to matrix\n",
    "counts_matrix[2, :] = book_398_counts_filtered.filter(\n",
    "    # Keep only shared words\n",
    "    lambda kvp: kvp[0] in list_shared_words).sortBy(\n",
    "    # Alphabetize the words\n",
    "    lambda kvp: kvp[0]).flatMap(\n",
    "    # Keep only the counts\n",
    "    lambda kvp: [kvp[1]]).collect()\n",
    "\n",
    "# Add book_3296's shared word counts to matrix\n",
    "counts_matrix[3, :] = book_3296_counts_filtered.filter(\n",
    "    # Keep only shared words\n",
    "    lambda kvp: kvp[0] in list_shared_words).sortBy(\n",
    "    # Alphabetize the words\n",
    "    lambda kvp: kvp[0]).flatMap(\n",
    "    # Keep only the counts\n",
    "    lambda kvp: [kvp[1]]).collect()\n",
    "\n",
    "# Let's check that the matrix has been populated correctly\n",
    "books = [book_43_counts_filtered,\n",
    "         book_84_counts_filtered,\n",
    "         book_398_counts_filtered,\n",
    "         book_3296_counts_filtered]\n",
    "# Get the first five words and counts\n",
    "for i in range(4):\n",
    "    print(books[i].filter(\n",
    "        lambda kvp: kvp[0] in list_shared_words).sortBy(\n",
    "        lambda kvp: kvp[0]).take(5))\n",
    "\n",
    "# As we can see in the output, the counts match with the matrix values\n",
    "print(counts_matrix[:, 0])\n",
    "print(counts_matrix[:, 1])\n",
    "print(counts_matrix[:, 2])\n",
    "print(counts_matrix[:, 3])\n",
    "print(counts_matrix[:, 4])"
   ]
  },
  {
   "cell_type": "markdown",
   "id": "124bcdd8",
   "metadata": {},
   "source": [
    "### Q17\n",
    "\n",
    "Compute the Euclidean distance between `book_398` and `book_3296`, which both talk about religion and `book_84` and `book_398`. What do you conclude about using the Euclidean distance for evaluating topic relatedness across documents?\n"
   ]
  },
  {
   "cell_type": "code",
   "execution_count": 413,
   "id": "7b6a81dd",
   "metadata": {},
   "outputs": [
    {
     "name": "stdout",
     "output_type": "stream",
     "text": [
      "1156.6628722320086\n",
      "751.6688100486809\n"
     ]
    }
   ],
   "source": [
    "from scipy.spatial.distance import euclidean\n",
    "\n",
    "print(euclidean(counts_matrix[2, :], counts_matrix[3, :]))\n",
    "print(euclidean(counts_matrix[1, :], counts_matrix[2, :]))"
   ]
  },
  {
   "cell_type": "markdown",
   "id": "89981b46",
   "metadata": {},
   "source": [
    "I can conclude that using Euclidean distance is a more accurate way to evaluate topic relatedness across documents"
   ]
  },
  {
   "cell_type": "markdown",
   "id": "3f4e54e6",
   "metadata": {},
   "source": [
    "### Q18\n",
    "\n",
    "Bonus question (5 points): Can you think of a few things we could do to improve similarity between documents that pertain to the same topic. Justify your answer without giving code"
   ]
  },
  {
   "cell_type": "markdown",
   "id": "5c8c6de1",
   "metadata": {},
   "source": [
    "We can improve the similarity between the documents by excluding words that are only used a single time in each document. For example, there are large portion of words that only occur once or twice in both documents. However, keeping these in will still skew the Euclidean distance by a few points, and will cause them to drift farther apart when in actuality, they are closely related.\n",
    "\n",
    "Additionally, we can use the optional parameter w for the the Euclidean distance function. This parameter is an array that holds float values corresponding to the weight of each word. We can use this array to more heavily weigh certain words over others to more accurately show similarity or dissimilarity. "
   ]
  },
  {
   "cell_type": "markdown",
   "id": "aedf1d74",
   "metadata": {},
   "source": [
    "## Part III\n",
    "\n",
    "In this part we will build some basic analytics for a dataset consisting of flight arrival and departure details for all commercial flights within the USA in one month. While this dataset can be managed using Pandas (<1M records), scaling to a yearly or longer timeframe will greatly benefit from using a distributed computing framework such as `Spark`.\n",
    "\n",
    "Here, you should use exclusively `SparkDatFrames. \n",
    "\n",
    "We want to analyze this dataset to better schedule trips.  For example:\n",
    " * Avoid airlines carriers that are most often associated with delays.\n",
    " * Avoid departure days where delays are most frequent.\n",
    " * Avoid airports which are associated with delays or long taxxying time.\n",
    "* etc.\n",
    " \n",
    "\n",
    "The information about the fields contained in the data file can be found [here](https://dataverse.harvard.edu/dataset.xhtml;jsessionid=0414e25969eccd0e88ae4d64fa0b?persistentId=doi%3A10.7910%2FDVN%2FHG7NV7&version=&q=&fileTypeGroupFacet=&fileTag=%221.+Documentation%22&fileSortField=date&fileSortOrder=desc)\n"
   ]
  },
  {
   "cell_type": "markdown",
   "id": "149805af",
   "metadata": {},
   "source": [
    "### Q19\n",
    "\n",
    "Load the file `flight_info.csv` into a spark `DataFrame` called `flight_info`.\n",
    "\n",
    "  * Note that you will need to create a sparkSession prior to loading the data\n",
    "  \n",
    "* How many entries does the file contain?\n",
    "\n"
   ]
  },
  {
   "cell_type": "code",
   "execution_count": 414,
   "id": "3ad5e6ad",
   "metadata": {},
   "outputs": [
    {
     "name": "stdout",
     "output_type": "stream",
     "text": [
      "There are 450017 entries in the file\n"
     ]
    }
   ],
   "source": [
    "import pyspark.sql\n",
    "import pyspark.sql.types\n",
    "from pyspark.sql.types import StructType, StructField, StringType, IntegerType\n",
    "\n",
    "# Create or reuse a context\n",
    "sc = SparkContext.getOrCreate()\n",
    "\n",
    "# Create a SQL context from the SparkContext\n",
    "sqlC = SQLContext.getOrCreate(sc)\n",
    "\n",
    "# Read csv file and put data into dataframe\n",
    "flight_info = sqlC.read.format(\"csv\").option(\"header\", \"true\").load(\"data/flight_info.csv\")\n",
    "\n",
    "print(\"There are %d entries in the file\" % (flight_info.count()))"
   ]
  },
  {
   "cell_type": "markdown",
   "id": "4fad81f1",
   "metadata": {},
   "source": [
    "### Q20\n",
    "\n",
    "Use `pySpark-SQL` or `pandas-like syntax to compute the airlines represented in this dataset\n",
    "The airline information is stored in a field called UniqueCarrier\n",
    "* UniqueCarrier: Represents the unique carrier code (ex.AA = American Airlines) \n"
   ]
  },
  {
   "cell_type": "code",
   "execution_count": 415,
   "id": "73fd7b0b",
   "metadata": {},
   "outputs": [
    {
     "name": "stderr",
     "output_type": "stream",
     "text": [
      "\r",
      "[Stage 5255:>                                                       (0 + 4) / 4]\r",
      "\r",
      "[Stage 5255:==============>                                         (1 + 3) / 4]\r"
     ]
    },
    {
     "name": "stdout",
     "output_type": "stream",
     "text": [
      "['UA', 'NK', 'AA', 'EV', 'B6', 'DL', 'OO', 'F9', 'HA', 'AS', 'VX', 'WN']\n"
     ]
    },
    {
     "name": "stderr",
     "output_type": "stream",
     "text": [
      "\r",
      "                                                                                \r"
     ]
    }
   ],
   "source": [
    "# Get all unique airline codes and put them into a list\n",
    "airlines = [row['UniqueCarrier'] for row in flight_info.select(\"UniqueCarrier\").distinct().collect()]\n",
    "\n",
    "print(airlines)"
   ]
  },
  {
   "cell_type": "markdown",
   "id": "1349b2f5",
   "metadata": {},
   "source": [
    "### Q21\n",
    "\n",
    "The data file contains various other fields, two of which are useful for answering the next question.\n",
    "\n",
    "* CRSDepTime: Represents the scheduled departure time\n",
    "* DepTime: Represents the actual departure time\n",
    "\n",
    "Compute the number of flights delayed per each carried code represented in this dataset. Sort the data by decreasing order of delays.\n",
    "  * A delay is observed when `DepTime` > `CRSDepTime`\n"
   ]
  },
  {
   "cell_type": "code",
   "execution_count": 416,
   "id": "c72cff25",
   "metadata": {},
   "outputs": [
    {
     "name": "stderr",
     "output_type": "stream",
     "text": [
      "                                                                                \r"
     ]
    },
    {
     "name": "stdout",
     "output_type": "stream",
     "text": [
      "[('WN', 47472), ('DL', 24334), ('AA', 23461), ('UA', 17701), ('OO', 16751), ('EV', 11596), ('B6', 9396), ('AS', 4488), ('NK', 4151), ('F9', 2988), ('VX', 2648), ('HA', 1939)]\n"
     ]
    }
   ],
   "source": [
    "# Holds tuples of schema ([AIRLINE], [DELAY_COUNT])\n",
    "delays = []\n",
    "\n",
    "for airline in airlines:\n",
    "    # Select the two columns for the specific airline\n",
    "    times = flight_info.select(\"DepTime\", \"CRSDepTime\").where(flight_info[\"UniqueCarrier\"] == airline)\n",
    "        \n",
    "    # Creates a list of 0, 1 where 1 is DepTime > CRSDepTime and 0 otherwise\n",
    "    delay_buffer = [int((float(row[\"DepTime\"]) if (row[\"DepTime\"] is not None) else 0) > (float(row[\"CRSDepTime\"]) if (row[\"CRSDepTime\"] is not None) else 0)) for row in times.collect()]\n",
    "    \n",
    "    delays.append((airline, sum(delay_buffer)))\n",
    "\n",
    "# Sort the list of tuples by number of delays\n",
    "delays.sort(key = lambda x: x[1], reverse = True)\n",
    "    \n",
    "print(delays)"
   ]
  },
  {
   "cell_type": "markdown",
   "id": "1645593b",
   "metadata": {},
   "source": [
    "### Q22\n",
    "\n",
    " Use the file `airlines.csv` to find the the complete name of the airline. Here, you are required to load the file as a pyspark DataFrame; call it `airlines_info`, and repeat the query above while including the `flights.csv `file in your query ( requires doing a `join`) so that you can also display the full name of the carrier (second column). \n",
    "\n",
    "The result will look (approximately) like:\n",
    "\n",
    "```\n",
    "[Row(UniqueCarrier='WN', first(_c1)='Southwest Airlines', count=SOME_count),\n",
    " Row(UniqueCarrier='DL', first(_c1)='Delta Air Lines', count=SOME_count),\n",
    " Row(UniqueCarrier='AA', first(_c1)='American Airlines', count=SOME_count),\n",
    " ...\n",
    " ]\n",
    "```\n",
    "\n",
    "The carrier code in the `airlines.csv` file is provided in the 4th (1-based) column\n",
    "\n",
    "Note that the file `airlines.csv` does not have column header. Hence, you need to print one line of your dataset to see what names Spark gave to the columns. Use the name provided by Spark in your query."
   ]
  },
  {
   "cell_type": "code",
   "execution_count": 417,
   "id": "30cea22b",
   "metadata": {
    "scrolled": true
   },
   "outputs": [
    {
     "name": "stderr",
     "output_type": "stream",
     "text": [
      "                                                                                \r"
     ]
    },
    {
     "name": "stdout",
     "output_type": "stream",
     "text": [
      "[('WN', 'Southwest Airlines', 47472), ('DL', 'Delta Air Lines', 24334), ('AA', 'American Airlines', 23461), ('UA', 'United Airlines', 17701), ('OO', 'SkyWest', 16751), ('EV', 'Atlantic Southeast Airlines', 11596), ('B6', 'JetBlue Airways', 9396), ('AS', 'Alaska Airlines', 4488), ('NK', 'Spirit Airlines', 4151), ('F9', 'Frontier Airlines', 2988), ('VX', 'Virgin America', 2648), ('HA', 'Hawaiian Airlines', 1939)]\n"
     ]
    }
   ],
   "source": [
    "# Create or reuse a context\n",
    "sc = SparkContext.getOrCreate()\n",
    "\n",
    "# Create a SQL context from the SparkContext\n",
    "sqlC = SQLContext.getOrCreate(sc)\n",
    "\n",
    "# Read csv file and put data into dataframe\n",
    "airlines_info = sqlC.read.format(\"csv\").option(\"header\", \"false\").load(\"data/airlines.csv\")\n",
    "\n",
    "combined_info = airlines_info.drop(airlines_info[\"_c0\"]).join(flight_info, flight_info[\"UniqueCarrier\"] == airlines_info[\"_c3\"])\n",
    "\n",
    "# Holds tuples of schema ([UNIQUE_CARRIER], [AIRLINE_NAME], [DELAY_COUNT])\n",
    "delays = []\n",
    "\n",
    "for uc in airlines:\n",
    "    \n",
    "    # Select the two columns for the specific airline\n",
    "    times = combined_info.select(\"DepTime\", \"CRSDepTime\", \"_c1\").where(combined_info[\"UniqueCarrier\"] == uc)\n",
    "    # Creates a list of 0, 1 where 1 is DepTime > CRSDepTime and 0 otherwise\n",
    "    delay_buffer = [int((float(row[\"DepTime\"]) if (row[\"DepTime\"] is not None) else 0) > (float(row[\"CRSDepTime\"]) if (row[\"CRSDepTime\"] is not None) else 0)) for row in times.collect()]\n",
    "    \n",
    "    # Get the airline name from the row\n",
    "    airline_name = times.take(1)[0][\"_c1\"]\n",
    "        \n",
    "    delays.append((uc, airline_name, sum(delay_buffer)))\n",
    "\n",
    "# Sort the list of tuples by number of delays\n",
    "delays.sort(key = lambda x: x[2], reverse = True)\n",
    "    \n",
    "print(delays)"
   ]
  },
  {
   "cell_type": "markdown",
   "id": "4e0123a8",
   "metadata": {},
   "source": [
    "### Q23\n",
    "\n",
    "Compute the number of delays per company per day. The day is encoded as an integer in the column `DayOfWeek` in `fight_info`. You can display the day as an integer or map it into a string name of the week.\n",
    "Sort the data by airline code (UniqueCarrier) and by increasing values of DayOfWeek\n",
    "\n",
    "\n",
    "You results should look like the following\n",
    "\n"
   ]
  },
  {
   "cell_type": "code",
   "execution_count": null,
   "id": "f9971baa",
   "metadata": {},
   "outputs": [
    {
     "name": "stderr",
     "output_type": "stream",
     "text": [
      "                                                                                \r"
     ]
    }
   ],
   "source": [
    "# Holds tuples of schema ()\n",
    "delays = []\n",
    "\n",
    "week = {1: \"MON\", 2: \"TUES\", 3: \"WED\", 4: \"THURS\", 5: \"FRI\", 6: \"SAT\", 7: \"SUN\"}\n",
    "\n",
    "for uc in airlines:\n",
    "    # Select only the following four columns\n",
    "    times = combined_info.select(\"DepTime\", \"CRSDepTime\", \"_c1\", \"DayOfWeek\").where(combined_info[\"UniqueCarrier\"] == uc)\n",
    "\n",
    "    # Get the airline name from the row\n",
    "    airline_name = times.take(1)[0][\"_c1\"]\n",
    "    \n",
    "    # Dictionary to save delays per day\n",
    "    day_dict = {}\n",
    "    \n",
    "    # Cycle over all seven days\n",
    "    for day in range(1, 8):\n",
    "        # Only take entries that fall on this day\n",
    "        times_this_day = times.where(combined_info[\"DayOfWeek\"] == str(day))\n",
    "        # Same as before, create a binary buffer\n",
    "        delay_buffer = [int((float(row[\"DepTime\"]) if (row[\"DepTime\"] is not None) else 0) > (float(row[\"CRSDepTime\"]) if (row[\"CRSDepTime\"] is not None) else 0)) for row in times_this_day.collect()]\n",
    "        # Sum up the buffer for number of delays on that day\n",
    "        delays_this_day = sum(delay_buffer)\n",
    "        # Put this sum into the dictionary\n",
    "        day_dict[week[day]] = delays_this_day\n",
    "    \n",
    "    # Flatten the dictionary into a list of tuples\n",
    "    flat_days = [(k, v) for k, v in day_dict.items()]\n",
    "    # Create a tuple that follows the schema: (UC, AIRLINE_NAME, ((\"MON\", ___), (\"TUES\", ___), etc.))\n",
    "    airline_tuple = tuple([uc, airline_name, tuple(tuple(x) for x in flat_days)])\n",
    "    # Add the tuple to the delay list\n",
    "    delays.append(airline_tuple)\n",
    "    \n",
    "# Sort on UniqueCarrier\n",
    "delays.sort(key = lambda x: x[1])    \n",
    "\n",
    "[print(single_airline_delay) for single_airline_delay in delays]"
   ]
  },
  {
   "cell_type": "markdown",
   "id": "4c955760",
   "metadata": {},
   "source": [
    "### Q24  \n",
    "\n",
    "Counting the number of delayed flights per airline is misleading, as airlines with more flights are more likley to have delays than companies with substantially fiewer flights. \n",
    "\n",
    "Repeat the same query above but, for each carrier, normalize the counts of delays by the total number of flights for that carrier. \n"
   ]
  },
  {
   "cell_type": "code",
   "execution_count": null,
   "id": "13ae9b5e",
   "metadata": {},
   "outputs": [],
   "source": [
    "### Write your code here"
   ]
  },
  {
   "cell_type": "markdown",
   "id": "5b73b3e4",
   "metadata": {},
   "source": [
    "### Q25 \n",
    "\n",
    "Time the query above. How long did it take to run. \n",
    "  * Make sure you run the code a few times and compute the average run time.\n",
    "  * The above should be easy to implement if you use the correct Jupyter Notebook `magic` function\n",
    "  "
   ]
  },
  {
   "cell_type": "code",
   "execution_count": null,
   "id": "7df43da8",
   "metadata": {},
   "outputs": [],
   "source": [
    "### Write your code here"
   ]
  },
  {
   "cell_type": "markdown",
   "id": "604e85e0",
   "metadata": {},
   "source": [
    "### Q26 \n",
    "\n",
    "Use one of the techniques covered in class to accelerate this query. Time your query to see by how much the run time was improved"
   ]
  },
  {
   "cell_type": "code",
   "execution_count": null,
   "id": "2e951d64",
   "metadata": {},
   "outputs": [],
   "source": [
    "### Write your code here"
   ]
  },
  {
   "cell_type": "markdown",
   "id": "8a87a433",
   "metadata": {},
   "source": [
    "### Q27 \n",
    "\n",
    "Is the departure delay (i.e., DepTime - CRSDepTime) predictive of the arrival delay (ArrTime > CRSArrTime)?\n",
    "Use an approach of your choice (e.g. `skelearn` which we covered in class or `Spark`) to model as a linear regression the arrival delay as a function of the departure delay. \n",
    "\n"
   ]
  },
  {
   "cell_type": "code",
   "execution_count": null,
   "id": "f8dbd52d",
   "metadata": {},
   "outputs": [],
   "source": [
    "### Write your code here"
   ]
  }
 ],
 "metadata": {
  "kernelspec": {
   "display_name": "Python 3 (ipykernel)",
   "language": "python",
   "name": "python3"
  },
  "language_info": {
   "codemirror_mode": {
    "name": "ipython",
    "version": 3
   },
   "file_extension": ".py",
   "mimetype": "text/x-python",
   "name": "python",
   "nbconvert_exporter": "python",
   "pygments_lexer": "ipython3",
   "version": "3.9.7"
  }
 },
 "nbformat": 4,
 "nbformat_minor": 5
}
